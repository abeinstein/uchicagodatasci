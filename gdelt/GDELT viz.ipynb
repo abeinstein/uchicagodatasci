{
 "metadata": {
  "name": "GDELT viz"
 },
 "nbformat": 3,
 "nbformat_minor": 0,
 "worksheets": [
  {
   "cells": [
    {
     "cell_type": "markdown",
     "metadata": {},
     "source": [
      "# Data Science Club: Visualizing GDELT with Matplotlib\n",
      "In this tutorial, you will learn how to visualize a dataset using matplotlib. This tutorial is just enough to get you started. After completing the tutorial, you should try to make your own visualizations! \n",
      "\n",
      "To do this tutorial, you will need to download a few things. If you have pip installed, you can type:\n",
      "    `sudo pip install ipython matplotlib`. If you don't have pip installed, you can install it using \n",
      "    `sudo easy_install pip` (at least if you're on a Mac. If you're on something else, google it :)).\n",
      "    \n",
      "1. Python (2.7 or greater)\n",
      "2. IPython\n",
      "3. Matplotlib\n",
      "\n",
      "Once you have all these things downloaded, type `ipython notebook`, and follow the instructions to create a new ipython notebook. IPython is a great tool, as it will allow us to write code, look at figures, and annotate it all at the same time. \n",
      "\n",
      "First, download the [GDELT database](http://gdelt.utdallas.edu/data.html#reduced). Make sure to download the reduced dataset, unless you have a spare 40GB of hard drive space you want to use up. \n",
      "    "
     ]
    },
    {
     "cell_type": "code",
     "collapsed": false,
     "input": [
      "import matplotlib.pyplot as plt\n",
      "\n",
      "from collections import defaultdict\n",
      "%pylab inline"
     ],
     "language": "python",
     "metadata": {},
     "outputs": [
      {
       "output_type": "stream",
       "stream": "stdout",
       "text": [
        "\n",
        "Welcome to pylab, a matplotlib-based Python environment [backend: module://IPython.kernel.zmq.pylab.backend_inline].\n",
        "For more information, type 'help(pylab)'.\n"
       ]
      }
     ],
     "prompt_number": 1
    },
    {
     "cell_type": "markdown",
     "metadata": {},
     "source": [
      "The above imports some Python libraries that we need."
     ]
    },
    {
     "cell_type": "code",
     "collapsed": false,
     "input": [
      "PATH = \"GDELT.1979-2012.reduced/\""
     ],
     "language": "python",
     "metadata": {},
     "outputs": [],
     "prompt_number": 2
    },
    {
     "cell_type": "code",
     "collapsed": false,
     "input": [
      "# Open the file, and read out the column names.\n",
      "f = open(PATH + \"2012.reduced.txt\")\n",
      "col_names = f.readline().split('\\t')\n",
      "\n",
      "for i, col_name in enumerate(col_names):\n",
      "    print i, col_name\n",
      "    \n",
      "\n",
      "f.close()"
     ],
     "language": "python",
     "metadata": {},
     "outputs": [
      {
       "output_type": "stream",
       "stream": "stdout",
       "text": [
        "0 Day\n",
        "1 Actor1Code\n",
        "2 Actor2Code\n",
        "3 EventCode\n",
        "4 QuadCategory\n",
        "5 GoldsteinScale\n",
        "6 Actor1Geo_Lat\n",
        "7 Actor1Geo_Long\n",
        "8 Actor2Geo_Lat\n",
        "9 Actor2Geo_Long\n",
        "10 ActionGeo_Lat\n",
        "11 ActionGeo_Long\n",
        "\n"
       ]
      }
     ],
     "prompt_number": 3
    },
    {
     "cell_type": "markdown",
     "metadata": {},
     "source": [
      "Above, you can see the different column headings. GDELT represents every political event as an action between two actors, usually countries. You can see what all the codes mean [here](http://gdelt.utdallas.edu/data.html#lookups). "
     ]
    },
    {
     "cell_type": "code",
     "collapsed": false,
     "input": [
      "data = {}\n",
      "years = range(1979, 2013)\n",
      "\n",
      "# Let's look at everything that the US was involved in\n",
      "actor1_code = \"USA\"\n",
      "actor2_code = \"USA\"\n",
      "\n",
      "for year in years:\n",
      "    print \"Processing year: \" + year\n",
      "    f = open(PATH + str(year) + \".reduced.txt\")\n",
      "    data[year] = []\n",
      "    for line in f:\n",
      "        row = line.split(\"\\t\")\n",
      "        actor1 = row[1][:3]\n",
      "        actor2 = row[2][:3]\n",
      "        if actor1 == actor1_code and actor2 == actor2_code:\n",
      "            data[year].append(row)\n",
      "\n",
      "# Prints out the number of political events for each year\n",
      "print \"US records:\", map(lambda i: len(data[i]), years)"
     ],
     "language": "python",
     "metadata": {},
     "outputs": [
      {
       "output_type": "stream",
       "stream": "stdout",
       "text": [
        "1979\n",
        "1980"
       ]
      },
      {
       "output_type": "stream",
       "stream": "stdout",
       "text": [
        "\n",
        "1981"
       ]
      },
      {
       "output_type": "stream",
       "stream": "stdout",
       "text": [
        "\n",
        "1982"
       ]
      },
      {
       "output_type": "stream",
       "stream": "stdout",
       "text": [
        "\n",
        "1983"
       ]
      },
      {
       "output_type": "stream",
       "stream": "stdout",
       "text": [
        "\n",
        "1984"
       ]
      },
      {
       "output_type": "stream",
       "stream": "stdout",
       "text": [
        "\n",
        "1985"
       ]
      },
      {
       "output_type": "stream",
       "stream": "stdout",
       "text": [
        "\n",
        "1986"
       ]
      },
      {
       "output_type": "stream",
       "stream": "stdout",
       "text": [
        "\n",
        "1987"
       ]
      },
      {
       "output_type": "stream",
       "stream": "stdout",
       "text": [
        "\n",
        "1988"
       ]
      },
      {
       "output_type": "stream",
       "stream": "stdout",
       "text": [
        "\n",
        "1989"
       ]
      },
      {
       "output_type": "stream",
       "stream": "stdout",
       "text": [
        "\n",
        "1990"
       ]
      },
      {
       "output_type": "stream",
       "stream": "stdout",
       "text": [
        "\n",
        "1991"
       ]
      },
      {
       "output_type": "stream",
       "stream": "stdout",
       "text": [
        "\n",
        "1992"
       ]
      },
      {
       "output_type": "stream",
       "stream": "stdout",
       "text": [
        "\n",
        "1993"
       ]
      },
      {
       "output_type": "stream",
       "stream": "stdout",
       "text": [
        "\n",
        "1994"
       ]
      },
      {
       "output_type": "stream",
       "stream": "stdout",
       "text": [
        "\n",
        "1995"
       ]
      },
      {
       "output_type": "stream",
       "stream": "stdout",
       "text": [
        "\n",
        "1996"
       ]
      },
      {
       "output_type": "stream",
       "stream": "stdout",
       "text": [
        "\n",
        "1997"
       ]
      },
      {
       "output_type": "stream",
       "stream": "stdout",
       "text": [
        "\n",
        "1998"
       ]
      },
      {
       "output_type": "stream",
       "stream": "stdout",
       "text": [
        "\n",
        "1999"
       ]
      },
      {
       "output_type": "stream",
       "stream": "stdout",
       "text": [
        "\n",
        "2000"
       ]
      },
      {
       "output_type": "stream",
       "stream": "stdout",
       "text": [
        "\n",
        "2001"
       ]
      },
      {
       "output_type": "stream",
       "stream": "stdout",
       "text": [
        "\n",
        "2002"
       ]
      },
      {
       "output_type": "stream",
       "stream": "stdout",
       "text": [
        "\n",
        "2003"
       ]
      },
      {
       "output_type": "stream",
       "stream": "stdout",
       "text": [
        "\n",
        "2004"
       ]
      },
      {
       "output_type": "stream",
       "stream": "stdout",
       "text": [
        "\n",
        "2005"
       ]
      },
      {
       "output_type": "stream",
       "stream": "stdout",
       "text": [
        "\n",
        "2006"
       ]
      },
      {
       "output_type": "stream",
       "stream": "stdout",
       "text": [
        "\n",
        "2007"
       ]
      },
      {
       "output_type": "stream",
       "stream": "stdout",
       "text": [
        "\n",
        "2008"
       ]
      },
      {
       "output_type": "stream",
       "stream": "stdout",
       "text": [
        "\n",
        "2009"
       ]
      },
      {
       "output_type": "stream",
       "stream": "stdout",
       "text": [
        "\n",
        "2010"
       ]
      },
      {
       "output_type": "stream",
       "stream": "stdout",
       "text": [
        "\n",
        "2011"
       ]
      },
      {
       "output_type": "stream",
       "stream": "stdout",
       "text": [
        "\n",
        "2012"
       ]
      },
      {
       "output_type": "stream",
       "stream": "stdout",
       "text": [
        "\n",
        "US records:"
       ]
      },
      {
       "output_type": "stream",
       "stream": "stdout",
       "text": [
        " [2089, 3431, 4511, 4875, 5908, 5984, 6087, 6953, 6296, 6263, 5301, 5337, 6716, 5072, 6487, 8606, 9785, 13214, 13946, 16466, 16076, 17683, 24225, 20308, 23995, 21292, 17416, 40361, 76703, 111942, 168060, 191511, 264181, 147924]\n"
       ]
      }
     ],
     "prompt_number": 4
    },
    {
     "cell_type": "code",
     "collapsed": false,
     "input": [
      "counts = map(lambda i: len(data[i]), range(1979, 2013))\n",
      "\n",
      "# Plots a bar graph\n",
      "plt.bar(range(1979, 2013), counts)\n",
      "plt.xlabel('Year')\n",
      "plt.ylabel(\"# events\")\n",
      "plt.show()"
     ],
     "language": "python",
     "metadata": {},
     "outputs": [
      {
       "output_type": "display_data",
       "png": "[encoded data removed]",
       "text": [
        "<matplotlib.figure.Figure at 0x1062cbbd0>"
       ]
      }
     ],
     "prompt_number": 5
    },
    {
     "cell_type": "code",
     "collapsed": false,
     "input": [
      "# Now, what type of events are these?\n",
      "quad_counts = defaultdict(int)\n",
      "for year_data in data.values():\n",
      "    for row in year_data:\n",
      "        quadclass = int(row[4])\n",
      "        if quadclass == 1:\n",
      "            quad_counts[\"Verbal Cooperation\"] += 1\n",
      "        elif quadclass == 2:\n",
      "            quad_counts[\"Material Cooperation\"] += 1\n",
      "        elif quadclass == 3:\n",
      "            quad_counts[\"Verbal Conflict\"] += 1\n",
      "        elif quadclass == 4:\n",
      "            quad_counts[\"Material Conflict\"] += 1\n"
     ],
     "language": "python",
     "metadata": {},
     "outputs": [],
     "prompt_number": 6
    },
    {
     "cell_type": "code",
     "collapsed": false,
     "input": [
      "# Plots a pie chart\n",
      "figure(figsize=(8, 8))\n",
      "\n",
      "plt.pie(quad_counts.values(), labels=quad_counts.keys())\n",
      "plt.show()"
     ],
     "language": "python",
     "metadata": {},
     "outputs": [
      {
       "output_type": "display_data",
       "png": "[encoded data removed]",
       "text": [
        "<matplotlib.figure.Figure at 0x13337bd50>"
       ]
      }
     ],
     "prompt_number": 7
    },
    {
     "cell_type": "code",
     "collapsed": false,
     "input": [],
     "language": "python",
     "metadata": {},
     "outputs": [],
     "prompt_number": 7
    }
   ],
   "metadata": {}
  }
 ]
}